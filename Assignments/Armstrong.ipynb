{
 "cells": [
  {
   "cell_type": "code",
   "execution_count": 5,
   "metadata": {},
   "outputs": [
    {
     "name": "stdout",
     "output_type": "stream",
     "text": [
      "Enter a number:153\n",
      "YES\n"
     ]
    }
   ],
   "source": [
    "def isarmstrong(n):\n",
    "    le=len(str(n)) \n",
    "    nc = n\n",
    "    val = 0\n",
    "    while (nc!=0): \n",
    "        rem = nc%10\n",
    "        val = val + pow(rem, le) \n",
    "        nc = nc//10\n",
    "    return (val == n) \n",
    "\n",
    "n=int(input(\"Enter a number:\"))\n",
    "if isarmstrong(n):\n",
    "    print(\"YES\")\n",
    "else:\n",
    "    print(\"NO\")"
   ]
  },
  {
   "cell_type": "code",
   "execution_count": null,
   "metadata": {},
   "outputs": [],
   "source": []
  }
 ],
 "metadata": {
  "kernelspec": {
   "display_name": "Python 3",
   "language": "python",
   "name": "python3"
  },
  "language_info": {
   "codemirror_mode": {
    "name": "ipython",
    "version": 3
   },
   "file_extension": ".py",
   "mimetype": "text/x-python",
   "name": "python",
   "nbconvert_exporter": "python",
   "pygments_lexer": "ipython3",
   "version": "3.7.4"
  }
 },
 "nbformat": 4,
 "nbformat_minor": 2
}
