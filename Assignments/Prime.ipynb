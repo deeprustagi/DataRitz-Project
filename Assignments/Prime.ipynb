{
 "cells": [
  {
   "cell_type": "code",
   "execution_count": 3,
   "metadata": {},
   "outputs": [
    {
     "name": "stdout",
     "output_type": "stream",
     "text": [
      "[101, 103, 107, 109, 113, 127, 131, 137, 139, 149, 151, 157, 163, 167, 173, 179, 181, 191, 193, 197, 199, 211, 223, 227, 229, 233, 239, 241, 251, 257, 263, 269, 271, 277, 281, 283, 293]\n"
     ]
    }
   ],
   "source": [
    "def isprime(n):\n",
    "    if n==2:\n",
    "        return True\n",
    "    elif n==1 or n%2==0:\n",
    "        return False\n",
    "    else:\n",
    "        cnt=0\n",
    "        for i in range(2,n):\n",
    "            if n%i==0:\n",
    "                cnt=1\n",
    "                break\n",
    "        if cnt==0:\n",
    "            return True\n",
    "        else:\n",
    "            return False\n",
    "prime=[]\n",
    "for i in range(100,300):\n",
    "    if isprime(i):\n",
    "        prime.append(i)\n",
    "print(prime)"
   ]
  },
  {
   "cell_type": "code",
   "execution_count": null,
   "metadata": {},
   "outputs": [],
   "source": []
  }
 ],
 "metadata": {
  "kernelspec": {
   "display_name": "Python 3",
   "language": "python",
   "name": "python3"
  },
  "language_info": {
   "codemirror_mode": {
    "name": "ipython",
    "version": 3
   },
   "file_extension": ".py",
   "mimetype": "text/x-python",
   "name": "python",
   "nbconvert_exporter": "python",
   "pygments_lexer": "ipython3",
   "version": "3.7.4"
  }
 },
 "nbformat": 4,
 "nbformat_minor": 2
}
